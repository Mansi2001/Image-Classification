{
  "nbformat": 4,
  "nbformat_minor": 0,
  "metadata": {
    "colab": {
      "name": "Image Classification.ipynb",
      "provenance": [],
      "collapsed_sections": [],
      "authorship_tag": "ABX9TyPMNlSjK7n4VZ/0MLxlh8jf",
      "include_colab_link": true
    },
    "kernelspec": {
      "name": "python3",
      "display_name": "Python 3"
    },
    "language_info": {
      "name": "python"
    }
  },
  "cells": [
    {
      "cell_type": "markdown",
      "metadata": {
        "id": "view-in-github",
        "colab_type": "text"
      },
      "source": [
        "<a href=\"https://colab.research.google.com/github/Mansi2001/Image-Classification/blob/main/Image_Classification.ipynb\" target=\"_parent\"><img src=\"https://colab.research.google.com/assets/colab-badge.svg\" alt=\"Open In Colab\"/></a>"
      ]
    },
    {
      "cell_type": "code",
      "metadata": {
        "colab": {
          "base_uri": "https://localhost:8080/"
        },
        "id": "ydLpPwg5QhbW",
        "outputId": "da8cef6a-ab53-4704-a8d3-b78aa23a763b"
      },
      "source": [
        "!pip install ipython-autotime\n",
        "%load_ext autotime"
      ],
      "execution_count": 7,
      "outputs": [
        {
          "output_type": "stream",
          "text": [
            "Collecting ipython-autotime\n",
            "  Downloading https://files.pythonhosted.org/packages/b4/c9/b413a24f759641bc27ef98c144b590023c8038dfb8a3f09e713e9dff12c1/ipython_autotime-0.3.1-py2.py3-none-any.whl\n",
            "Requirement already satisfied: ipython in /usr/local/lib/python3.7/dist-packages (from ipython-autotime) (5.5.0)\n",
            "Requirement already satisfied: simplegeneric>0.8 in /usr/local/lib/python3.7/dist-packages (from ipython->ipython-autotime) (0.8.1)\n",
            "Requirement already satisfied: pygments in /usr/local/lib/python3.7/dist-packages (from ipython->ipython-autotime) (2.6.1)\n",
            "Requirement already satisfied: pickleshare in /usr/local/lib/python3.7/dist-packages (from ipython->ipython-autotime) (0.7.5)\n",
            "Requirement already satisfied: prompt-toolkit<2.0.0,>=1.0.4 in /usr/local/lib/python3.7/dist-packages (from ipython->ipython-autotime) (1.0.18)\n",
            "Requirement already satisfied: traitlets>=4.2 in /usr/local/lib/python3.7/dist-packages (from ipython->ipython-autotime) (5.0.5)\n",
            "Requirement already satisfied: setuptools>=18.5 in /usr/local/lib/python3.7/dist-packages (from ipython->ipython-autotime) (56.0.0)\n",
            "Requirement already satisfied: decorator in /usr/local/lib/python3.7/dist-packages (from ipython->ipython-autotime) (4.4.2)\n",
            "Requirement already satisfied: pexpect; sys_platform != \"win32\" in /usr/local/lib/python3.7/dist-packages (from ipython->ipython-autotime) (4.8.0)\n",
            "Requirement already satisfied: six>=1.9.0 in /usr/local/lib/python3.7/dist-packages (from prompt-toolkit<2.0.0,>=1.0.4->ipython->ipython-autotime) (1.15.0)\n",
            "Requirement already satisfied: wcwidth in /usr/local/lib/python3.7/dist-packages (from prompt-toolkit<2.0.0,>=1.0.4->ipython->ipython-autotime) (0.2.5)\n",
            "Requirement already satisfied: ipython-genutils in /usr/local/lib/python3.7/dist-packages (from traitlets>=4.2->ipython->ipython-autotime) (0.2.0)\n",
            "Requirement already satisfied: ptyprocess>=0.5 in /usr/local/lib/python3.7/dist-packages (from pexpect; sys_platform != \"win32\"->ipython->ipython-autotime) (0.7.0)\n",
            "Installing collected packages: ipython-autotime\n",
            "Successfully installed ipython-autotime-0.3.1\n",
            "time: 142 µs (started: 2021-04-29 15:32:44 +00:00)\n"
          ],
          "name": "stdout"
        }
      ]
    },
    {
      "cell_type": "markdown",
      "metadata": {
        "id": "CfOT62nERjm9"
      },
      "source": [
        "Step1- Data Gathering\n"
      ]
    },
    {
      "cell_type": "code",
      "metadata": {
        "id": "JbwKLKvIN2VO"
      },
      "source": [
        "# Data: Images \n",
        "# 1. Download manually the images from google\n",
        "# 2. Download dataset from kaggle.com\n",
        "# 3. Build a Image Web Crawler\n",
        "# 4. Use Python libraries to scrape the images (Bing Image Downloader)"
      ],
      "execution_count": null,
      "outputs": []
    },
    {
      "cell_type": "code",
      "metadata": {
        "colab": {
          "base_uri": "https://localhost:8080/"
        },
        "id": "fnxzmWx-Lnk2",
        "outputId": "7ba0d96d-1536-4604-93b1-04df6224e2be"
      },
      "source": [
        "!pip install bing-image-downloader"
      ],
      "execution_count": 1,
      "outputs": [
        {
          "output_type": "stream",
          "text": [
            "Collecting bing-image-downloader\n",
            "  Downloading https://files.pythonhosted.org/packages/0d/bf/537a61030b84ae4cd5022d5c7b014fd9bc3ce7c02358919153a6658a61d3/bing_image_downloader-1.0.4-py3-none-any.whl\n",
            "Installing collected packages: bing-image-downloader\n",
            "Successfully installed bing-image-downloader-1.0.4\n"
          ],
          "name": "stdout"
        }
      ]
    },
    {
      "cell_type": "code",
      "metadata": {
        "id": "_Q08PUYOL3yM"
      },
      "source": [
        "!mkdir images"
      ],
      "execution_count": 2,
      "outputs": []
    },
    {
      "cell_type": "code",
      "metadata": {
        "colab": {
          "base_uri": "https://localhost:8080/"
        },
        "id": "JPNKD9nVMG_1",
        "outputId": "e6648dc7-414d-4e99-e8b4-59eabc86bd1f"
      },
      "source": [
        "from bing_image_downloader import downloader\n",
        "downloader.download(\"pretty sunflower\",limit=30,output_dir='images',\n",
        "                    adult_filter_off=True)"
      ],
      "execution_count": 3,
      "outputs": [
        {
          "output_type": "stream",
          "text": [
            "\n",
            "\n",
            "[!!]Indexing page: 1\n",
            "\n",
            "[%] Indexed 12 Images on Page 1.\n",
            "\n",
            "===============================================\n",
            "\n",
            "[%] Downloading Image #1 from https://cdn-0.preppywallpapers.com/wp-content/uploads/2019/08/Sunflower-iPhone-Wallpaper-5.jpg\n",
            "[%] File Downloaded !\n",
            "\n",
            "[%] Downloading Image #2 from https://i.pinimg.com/736x/0e/b5/63/0eb5635680546f8bb7bc618ad0e55489.jpg\n",
            "[%] File Downloaded !\n",
            "\n",
            "[%] Downloading Image #3 from https://66.media.tumblr.com/44d35612a2a7601c2f8c8d35cf820193/tumblr_nqalbc4ywM1rwrn5zo1_500.jpg\n",
            "[%] File Downloaded !\n",
            "\n",
            "[%] Downloading Image #4 from https://www.tattoosforyou.org/wp-content/uploads/2016/03/Dainty-Tattoos.jpg\n",
            "[%] File Downloaded !\n",
            "\n",
            "[%] Downloading Image #5 from http://www.tattoosbag.com/wp-content/uploads/2016/08/Sunflower-Tattoo-On-Back-TB166.jpg\n",
            "[%] File Downloaded !\n",
            "\n",
            "[%] Downloading Image #6 from https://i.pinimg.com/736x/0b/42/9f/0b429f77b547385793a5f221c8f33b9c.jpg\n",
            "[%] File Downloaded !\n",
            "\n",
            "[%] Downloading Image #7 from http://www.saphireeventgroup.com/wp-content/uploads/files/6314/0916/2507/colorful_bridal_bouquets_6.jpg\n",
            "[%] File Downloaded !\n",
            "\n",
            "[%] Downloading Image #8 from https://i.pinimg.com/736x/49/7b/d5/497bd55f180f61f0eb1d49162b808fbd.jpg\n",
            "[%] File Downloaded !\n",
            "\n",
            "[%] Downloading Image #9 from https://www.prettydesigns.com/wp-content/uploads/2014/11/Flower-Tattoo1.jpg\n",
            "[%] File Downloaded !\n",
            "\n",
            "[%] Downloading Image #10 from http://4.bp.blogspot.com/-vfYZKLdB6kI/T2Qpd7IO3FI/AAAAAAAAPto/kotbsMlFFdI/s1600/Flower-Back-Tattoo-For-Women.jpg\n",
            "[%] File Downloaded !\n",
            "\n",
            "[%] Downloading Image #11 from https://www.bigtattooplanet.com/forums/attachments/tattoo-talk/14193d1306274211-sunflower-tattoo-design-sunflower_tattoo.jpg\n",
            "[!] Issue getting: https://www.bigtattooplanet.com/forums/attachments/tattoo-talk/14193d1306274211-sunflower-tattoo-design-sunflower_tattoo.jpg\n",
            "[!] Error:: <urlopen error [SSL: CERTIFICATE_VERIFY_FAILED] certificate verify failed: unable to get local issuer certificate (_ssl.c:1091)>\n",
            "[%] Downloading Image #11 from https://i.pinimg.com/736x/21/c8/e2/21c8e2c6a8ccbdd74c5cf5ffd1b388c6.jpg\n",
            "[%] File Downloaded !\n",
            "\n",
            "\n",
            "\n",
            "[!!]Indexing page: 2\n",
            "\n",
            "[%] Indexed 12 Images on Page 2.\n",
            "\n",
            "===============================================\n",
            "\n",
            "[%] Downloading Image #12 from https://cdn-0.preppywallpapers.com/wp-content/uploads/2019/08/Sunflower-iPhone-Wallpaper-5.jpg\n",
            "[%] File Downloaded !\n",
            "\n",
            "[%] Downloading Image #13 from http://4.bp.blogspot.com/-vfYZKLdB6kI/T2Qpd7IO3FI/AAAAAAAAPto/kotbsMlFFdI/s1600/Flower-Back-Tattoo-For-Women.jpg\n",
            "[%] File Downloaded !\n",
            "\n",
            "[%] Downloading Image #14 from https://www.tattoosforyou.org/wp-content/uploads/2016/03/Dainty-Tattoos.jpg\n",
            "[%] File Downloaded !\n",
            "\n",
            "[%] Downloading Image #15 from https://66.media.tumblr.com/44d35612a2a7601c2f8c8d35cf820193/tumblr_nqalbc4ywM1rwrn5zo1_500.jpg\n",
            "[%] File Downloaded !\n",
            "\n",
            "[%] Downloading Image #16 from https://www.prettydesigns.com/wp-content/uploads/2014/11/Flower-Tattoo1.jpg\n",
            "[%] File Downloaded !\n",
            "\n",
            "[%] Downloading Image #17 from http://www.tattoosbag.com/wp-content/uploads/2016/08/Sunflower-Tattoo-On-Back-TB166.jpg\n",
            "[%] File Downloaded !\n",
            "\n",
            "[%] Downloading Image #18 from https://i.pinimg.com/736x/0b/42/9f/0b429f77b547385793a5f221c8f33b9c.jpg\n",
            "[%] File Downloaded !\n",
            "\n",
            "[%] Downloading Image #19 from http://www.saphireeventgroup.com/wp-content/uploads/files/6314/0916/2507/colorful_bridal_bouquets_6.jpg\n",
            "[%] File Downloaded !\n",
            "\n",
            "[%] Downloading Image #20 from https://i.pinimg.com/736x/49/7b/d5/497bd55f180f61f0eb1d49162b808fbd.jpg\n",
            "[%] File Downloaded !\n",
            "\n",
            "[%] Downloading Image #21 from https://i.pinimg.com/736x/0e/b5/63/0eb5635680546f8bb7bc618ad0e55489.jpg\n",
            "[%] File Downloaded !\n",
            "\n",
            "[%] Downloading Image #22 from https://www.bigtattooplanet.com/forums/attachments/tattoo-talk/14193d1306274211-sunflower-tattoo-design-sunflower_tattoo.jpg\n",
            "[!] Issue getting: https://www.bigtattooplanet.com/forums/attachments/tattoo-talk/14193d1306274211-sunflower-tattoo-design-sunflower_tattoo.jpg\n",
            "[!] Error:: <urlopen error [SSL: CERTIFICATE_VERIFY_FAILED] certificate verify failed: unable to get local issuer certificate (_ssl.c:1091)>\n",
            "[%] Downloading Image #22 from https://i.pinimg.com/736x/21/c8/e2/21c8e2c6a8ccbdd74c5cf5ffd1b388c6.jpg\n",
            "[%] File Downloaded !\n",
            "\n",
            "\n",
            "\n",
            "[!!]Indexing page: 3\n",
            "\n",
            "[%] Indexed 11 Images on Page 3.\n",
            "\n",
            "===============================================\n",
            "\n",
            "[%] Downloading Image #23 from https://66.media.tumblr.com/44d35612a2a7601c2f8c8d35cf820193/tumblr_nqalbc4ywM1rwrn5zo1_500.jpg\n",
            "[%] File Downloaded !\n",
            "\n",
            "[%] Downloading Image #24 from https://i.pinimg.com/736x/0e/b5/63/0eb5635680546f8bb7bc618ad0e55489.jpg\n",
            "[%] File Downloaded !\n",
            "\n",
            "[%] Downloading Image #25 from http://www.tattoosbag.com/wp-content/uploads/2016/08/Sunflower-Tattoo-On-Back-TB166.jpg\n",
            "[%] File Downloaded !\n",
            "\n",
            "[%] Downloading Image #26 from https://i.pinimg.com/736x/21/c8/e2/21c8e2c6a8ccbdd74c5cf5ffd1b388c6.jpg\n",
            "[%] File Downloaded !\n",
            "\n",
            "[%] Downloading Image #27 from https://i.pinimg.com/736x/49/7b/d5/497bd55f180f61f0eb1d49162b808fbd.jpg\n",
            "[%] File Downloaded !\n",
            "\n",
            "[%] Downloading Image #28 from http://4.bp.blogspot.com/-vfYZKLdB6kI/T2Qpd7IO3FI/AAAAAAAAPto/kotbsMlFFdI/s1600/Flower-Back-Tattoo-For-Women.jpg\n",
            "[%] File Downloaded !\n",
            "\n",
            "[%] Downloading Image #29 from https://www.tattoosforyou.org/wp-content/uploads/2016/03/Dainty-Tattoos.jpg\n",
            "[%] File Downloaded !\n",
            "\n",
            "[%] Downloading Image #30 from https://www.bigtattooplanet.com/forums/attachments/tattoo-talk/14193d1306274211-sunflower-tattoo-design-sunflower_tattoo.jpg\n",
            "[!] Issue getting: https://www.bigtattooplanet.com/forums/attachments/tattoo-talk/14193d1306274211-sunflower-tattoo-design-sunflower_tattoo.jpg\n",
            "[!] Error:: <urlopen error [SSL: CERTIFICATE_VERIFY_FAILED] certificate verify failed: unable to get local issuer certificate (_ssl.c:1091)>\n",
            "[%] Downloading Image #30 from https://www.prettydesigns.com/wp-content/uploads/2014/11/Flower-Tattoo1.jpg\n",
            "[%] File Downloaded !\n",
            "\n",
            "\n",
            "\n",
            "[%] Done. Downloaded 30 images.\n",
            "\n",
            "===============================================\n",
            "\n"
          ],
          "name": "stdout"
        }
      ]
    },
    {
      "cell_type": "code",
      "metadata": {
        "colab": {
          "base_uri": "https://localhost:8080/"
        },
        "id": "WFmmCGr9OPiq",
        "outputId": "10c7dd33-285e-4d46-bef7-81decdf13906"
      },
      "source": [
        "downloader.download(\"rugby ball leather\",limit=30,output_dir='images',\n",
        "                    adult_filter_off=True)"
      ],
      "execution_count": 5,
      "outputs": [
        {
          "output_type": "stream",
          "text": [
            "\n",
            "\n",
            "[!!]Indexing page: 1\n",
            "\n",
            "[%] Indexed 12 Images on Page 1.\n",
            "\n",
            "===============================================\n",
            "\n",
            "[%] Downloading Image #1 from https://cdn.shopify.com/s/files/1/0788/5979/products/mvp-leather-balls-heritage-leather-rugby-ball-2_1024x1024.jpg?v=1550134680\n",
            "[%] File Downloaded !\n",
            "\n",
            "[%] Downloading Image #2 from https://img1.etsystatic.com/044/0/7864717/il_fullxfull.644349439_g0x6.jpg\n",
            "[%] File Downloaded !\n",
            "\n",
            "[%] Downloading Image #3 from https://static.vecteezy.com/system/resources/previews/000/111/555/original/hand-drawn-leather-football-vector-texture.jpg\n",
            "[%] File Downloaded !\n",
            "\n",
            "[%] Downloading Image #4 from https://www.john-woodbridge.com/1009-large_default/1930s-football.jpg\n",
            "[%] File Downloaded !\n",
            "\n",
            "[%] Downloading Image #5 from https://sc02.alicdn.com/kf/U4fbecee4121e4b7b8cf9acca310b2054f/1096099/U4fbecee4121e4b7b8cf9acca310b2054f.jpg\n",
            "[%] File Downloaded !\n",
            "\n",
            "[%] Downloading Image #6 from http://res.freestockphotos.biz/pictures/17/17113-illustration-of-a-football-pv.png\n",
            "[%] File Downloaded !\n",
            "\n",
            "[%] Downloading Image #7 from http://www.rugby-gifts.co.uk/ekmps/shops/rugbygifts/images/the-complete-rugby-fragrance-gift-set-74467-p.jpg\n",
            "[%] File Downloaded !\n",
            "\n",
            "[%] Downloading Image #8 from https://static.vecteezy.com/system/resources/previews/000/076/176/original/soccer-ball-vector.jpg\n",
            "[%] File Downloaded !\n",
            "\n",
            "[%] Downloading Image #9 from https://www.sportsballshop.co.uk/acatalog/gripcontrol1.jpg\n",
            "[%] File Downloaded !\n",
            "\n",
            "[%] Downloading Image #10 from https://medias.go-sport.com/media/resized/1300x/catalog/product/80/60/01/24/ballon-football-americain_4_v1.jpeg\n",
            "[Error]Invalid image, not saving https://medias.go-sport.com/media/resized/1300x/catalog/product/80/60/01/24/ballon-football-americain_4_v1.jpeg\n",
            "\n",
            "[!] Issue getting: https://medias.go-sport.com/media/resized/1300x/catalog/product/80/60/01/24/ballon-football-americain_4_v1.jpeg\n",
            "[!] Error:: No active exception to reraise\n",
            "[%] Downloading Image #10 from http://www.prodirectrugby.com/productimages/V3_1_Main/62296.jpg\n",
            "[!] Issue getting: http://www.prodirectrugby.com/productimages/V3_1_Main/62296.jpg\n",
            "[!] Error:: HTTP Error 403: Forbidden\n",
            "[%] Downloading Image #10 from http://www.historic-uk.com/wp-content/uploads/2017/06/history-of-cricket.jpg\n",
            "[%] File Downloaded !\n",
            "\n",
            "\n",
            "\n",
            "[!!]Indexing page: 2\n",
            "\n",
            "[%] Indexed 12 Images on Page 2.\n",
            "\n",
            "===============================================\n",
            "\n",
            "[%] Downloading Image #11 from https://cdn1.bigcommerce.com/server1000/4dd02/products/682/images/3492/_MG_0374v2__78298.1332357807.455.455.jpg?c=2\n",
            "[%] File Downloaded !\n",
            "\n",
            "[%] Downloading Image #12 from https://cdn.notonthehighstreet.com/fs/6d/b6/5cda-1aa6-492c-b641-ff1185634649/original_leather-rugby-shaped-washbag.jpg\n",
            "[%] File Downloaded !\n",
            "\n",
            "[%] Downloading Image #13 from https://cdn.notonthehighstreet.com/fs/14/cb/45f8-4377-4358-9cc0-36c127d448d0/original_personalised-vintage-leather-rugby-ball.jpg\n",
            "[%] File Downloaded !\n",
            "\n",
            "[%] Downloading Image #14 from https://static.vecteezy.com/system/resources/previews/000/104/104/original/vector-football-texture-and-lace.jpg\n",
            "[%] File Downloaded !\n",
            "\n",
            "[%] Downloading Image #15 from https://d2gg9evh47fn9z.cloudfront.net/800px_COLOURBOX19173696.jpg\n",
            "[%] File Downloaded !\n",
            "\n",
            "[%] Downloading Image #16 from https://www.rasasports.com/antiquefootball/image017.jpg\n",
            "[Error]Invalid image, not saving https://www.rasasports.com/antiquefootball/image017.jpg\n",
            "\n",
            "[!] Issue getting: https://www.rasasports.com/antiquefootball/image017.jpg\n",
            "[!] Error:: No active exception to reraise\n",
            "[%] Downloading Image #16 from https://cdn.pixabay.com/photo/2014/04/03/11/08/american-football-311817_640.png\n",
            "[%] File Downloaded !\n",
            "\n",
            "[%] Downloading Image #17 from https://media.istockphoto.com/vectors/football-drawing-vector-id490813150\n",
            "[%] File Downloaded !\n",
            "\n",
            "[%] Downloading Image #18 from https://www.john-woodbridge.com/1062-tm_thickbox_default/balle-de-baseball.jpg\n",
            "[%] File Downloaded !\n",
            "\n",
            "[%] Downloading Image #19 from https://cdn.theschoollocker.com.au/media/catalog/product/cache/1/image/500x650/9df78eab33525d08d6e5fb8d27136e95/s/h/sherrin_afl_ball_synthetic_size_2_red_11077_1_1.jpg\n",
            "[%] File Downloaded !\n",
            "\n",
            "[%] Downloading Image #20 from https://www.prodirectrugby.com/productimages/V3_1_Gallery_1/62289.jpg\n",
            "[!] Issue getting: https://www.prodirectrugby.com/productimages/V3_1_Gallery_1/62289.jpg\n",
            "[!] Error:: HTTP Error 403: Forbidden\n",
            "[%] Downloading Image #20 from https://cdn.vox-cdn.com/thumbor/Cmc69AQKqpZxQelaWYvIkdqAx7A=/0x0:3070x2047/1200x800/filters:focal(1347x661:1837x1151)/cdn.vox-cdn.com/uploads/chorus_image/image/57259811/865138828.0.jpg\n",
            "[%] File Downloaded !\n",
            "\n",
            "\n",
            "\n",
            "[!!]Indexing page: 3\n",
            "\n",
            "[%] Indexed 11 Images on Page 3.\n",
            "\n",
            "===============================================\n",
            "\n",
            "[%] Downloading Image #21 from https://img1.etsystatic.com/044/0/7864717/il_fullxfull.644349439_g0x6.jpg\n",
            "[%] File Downloaded !\n",
            "\n",
            "[%] Downloading Image #22 from https://static.vecteezy.com/system/resources/previews/000/111/555/original/hand-drawn-leather-football-vector-texture.jpg\n",
            "[%] File Downloaded !\n",
            "\n",
            "[%] Downloading Image #23 from https://www.john-woodbridge.com/1009-large_default/1930s-football.jpg\n",
            "[%] File Downloaded !\n",
            "\n",
            "[%] Downloading Image #24 from https://sc02.alicdn.com/kf/U4fbecee4121e4b7b8cf9acca310b2054f/1096099/U4fbecee4121e4b7b8cf9acca310b2054f.jpg\n",
            "[%] File Downloaded !\n",
            "\n",
            "[%] Downloading Image #25 from http://res.freestockphotos.biz/pictures/17/17113-illustration-of-a-football-pv.png\n",
            "[%] File Downloaded !\n",
            "\n",
            "[%] Downloading Image #26 from http://www.rugby-gifts.co.uk/ekmps/shops/rugbygifts/images/the-complete-rugby-fragrance-gift-set-74467-p.jpg\n",
            "[%] File Downloaded !\n",
            "\n",
            "[%] Downloading Image #27 from https://static.vecteezy.com/system/resources/previews/000/076/176/original/soccer-ball-vector.jpg\n",
            "[%] File Downloaded !\n",
            "\n",
            "[%] Downloading Image #28 from https://www.sportsballshop.co.uk/acatalog/gripcontrol1.jpg\n",
            "[%] File Downloaded !\n",
            "\n",
            "[%] Downloading Image #29 from https://medias.go-sport.com/media/resized/1300x/catalog/product/80/60/01/24/ballon-football-americain_4_v1.jpeg\n",
            "[Error]Invalid image, not saving https://medias.go-sport.com/media/resized/1300x/catalog/product/80/60/01/24/ballon-football-americain_4_v1.jpeg\n",
            "\n",
            "[!] Issue getting: https://medias.go-sport.com/media/resized/1300x/catalog/product/80/60/01/24/ballon-football-americain_4_v1.jpeg\n",
            "[!] Error:: No active exception to reraise\n",
            "[%] Downloading Image #29 from http://www.prodirectrugby.com/productimages/V3_1_Main/62296.jpg\n",
            "[!] Issue getting: http://www.prodirectrugby.com/productimages/V3_1_Main/62296.jpg\n",
            "[!] Error:: HTTP Error 403: Forbidden\n",
            "[%] Downloading Image #29 from http://www.historic-uk.com/wp-content/uploads/2017/06/history-of-cricket.jpg\n",
            "[%] File Downloaded !\n",
            "\n",
            "\n",
            "\n",
            "[!!]Indexing page: 4\n",
            "\n",
            "[%] Indexed 10 Images on Page 4.\n",
            "\n",
            "===============================================\n",
            "\n",
            "[%] Downloading Image #30 from https://static.vecteezy.com/system/resources/previews/000/111/555/original/hand-drawn-leather-football-vector-texture.jpg\n",
            "[%] File Downloaded !\n",
            "\n",
            "\n",
            "\n",
            "[%] Done. Downloaded 30 images.\n",
            "\n",
            "===============================================\n",
            "\n"
          ],
          "name": "stdout"
        }
      ]
    },
    {
      "cell_type": "code",
      "metadata": {
        "colab": {
          "base_uri": "https://localhost:8080/"
        },
        "id": "iES61oj9PNAZ",
        "outputId": "343c574b-ed8a-4203-ba43-0c72d7e52293"
      },
      "source": [
        "downloader.download(\"ice cream cone\",limit=30,output_dir='images',\n",
        "                    adult_filter_off=True)"
      ],
      "execution_count": 6,
      "outputs": [
        {
          "output_type": "stream",
          "text": [
            "\n",
            "\n",
            "[!!]Indexing page: 1\n",
            "\n",
            "[%] Indexed 12 Images on Page 1.\n",
            "\n",
            "===============================================\n",
            "\n",
            "[%] Downloading Image #1 from https://townsquare.media/site/942/files/2018/07/Ice-Cream-Cone-TSM.jpg?w=1200&amp;h=0&amp;zc=1&amp;s=0&amp;a=t&amp;q=89\n",
            "[%] File Downloaded !\n",
            "\n",
            "[%] Downloading Image #2 from https://the-glass-co.com/wp-content/uploads/2016/10/ice-cream-presentation.gif\n",
            "[%] File Downloaded !\n",
            "\n",
            "[%] Downloading Image #3 from https://c8.alamy.com/comp/EH73TT/a-big-ice-cream-cone-banner-on-display-outside-a-gelateria-rome-italy-EH73TT.jpg\n",
            "[%] File Downloaded !\n",
            "\n",
            "[%] Downloading Image #4 from https://geekologie.com/2017/04/26/black-soft-serve-ice-cream-5.jpg\n",
            "[%] File Downloaded !\n",
            "\n",
            "[%] Downloading Image #5 from https://d28mt5n9lkji5m.cloudfront.net/i/W4DviZ0U8k.jpg\n",
            "[%] File Downloaded !\n",
            "\n",
            "[%] Downloading Image #6 from https://www.roadsideamerica.com/attract/images/mo/MOAFFicecream_laura.jpg\n",
            "[%] File Downloaded !\n",
            "\n",
            "[%] Downloading Image #7 from https://www.roadsideamerica.com/attract/images/il/ILMARicecreamcone_perfectpair.jpg\n",
            "[%] File Downloaded !\n",
            "\n",
            "[%] Downloading Image #8 from https://cdn.foodbeast.com/content/uploads/2016/08/fairy-floss-ice-cream.jpg\n",
            "[%] File Downloaded !\n",
            "\n",
            "[%] Downloading Image #9 from https://www.craftymorning.com/wp-content/uploads/2016/05/cotton-candy-cones-party-favor.jpg\n",
            "[%] File Downloaded !\n",
            "\n",
            "[%] Downloading Image #10 from https://static.boredpanda.com/blog/wp-content/uploads/2017/04/black-ice-cream-cone-little-damage-4-590085eb5e59a__700.jpg\n",
            "[%] File Downloaded !\n",
            "\n",
            "[%] Downloading Image #11 from http://www.roadsideamerica.com/attract/images/il/ILMATtwistee_andy.jpg\n",
            "[%] File Downloaded !\n",
            "\n",
            "[%] Downloading Image #12 from http://images.hellogiggles.com/uploads/2017/04/15060343/charcoalcone.jpg\n",
            "[%] File Downloaded !\n",
            "\n",
            "\n",
            "\n",
            "[!!]Indexing page: 2\n",
            "\n",
            "[%] Indexed 12 Images on Page 2.\n",
            "\n",
            "===============================================\n",
            "\n",
            "[%] Downloading Image #13 from https://townsquare.media/site/942/files/2018/07/Ice-Cream-Cone-TSM.jpg?w=1200&amp;h=0&amp;zc=1&amp;s=0&amp;a=t&amp;q=89\n",
            "[%] File Downloaded !\n",
            "\n",
            "[%] Downloading Image #14 from https://the-glass-co.com/wp-content/uploads/2016/10/ice-cream-presentation.gif\n",
            "[%] File Downloaded !\n",
            "\n",
            "[%] Downloading Image #15 from https://c8.alamy.com/comp/EH73TT/a-big-ice-cream-cone-banner-on-display-outside-a-gelateria-rome-italy-EH73TT.jpg\n",
            "[%] File Downloaded !\n",
            "\n",
            "[%] Downloading Image #16 from https://geekologie.com/2017/04/26/black-soft-serve-ice-cream-5.jpg\n",
            "[%] File Downloaded !\n",
            "\n",
            "[%] Downloading Image #17 from https://d28mt5n9lkji5m.cloudfront.net/i/W4DviZ0U8k.jpg\n",
            "[%] File Downloaded !\n",
            "\n",
            "[%] Downloading Image #18 from https://www.roadsideamerica.com/attract/images/mo/MOAFFicecream_laura.jpg\n",
            "[%] File Downloaded !\n",
            "\n",
            "[%] Downloading Image #19 from https://www.roadsideamerica.com/attract/images/il/ILMARicecreamcone_perfectpair.jpg\n",
            "[%] File Downloaded !\n",
            "\n",
            "[%] Downloading Image #20 from https://cdn.foodbeast.com/content/uploads/2016/08/fairy-floss-ice-cream.jpg\n",
            "[%] File Downloaded !\n",
            "\n",
            "[%] Downloading Image #21 from https://www.craftymorning.com/wp-content/uploads/2016/05/cotton-candy-cones-party-favor.jpg\n",
            "[%] File Downloaded !\n",
            "\n",
            "[%] Downloading Image #22 from https://static.boredpanda.com/blog/wp-content/uploads/2017/04/black-ice-cream-cone-little-damage-4-590085eb5e59a__700.jpg\n",
            "[%] File Downloaded !\n",
            "\n",
            "[%] Downloading Image #23 from http://www.roadsideamerica.com/attract/images/il/ILMATtwistee_andy.jpg\n",
            "[%] File Downloaded !\n",
            "\n",
            "[%] Downloading Image #24 from http://images.hellogiggles.com/uploads/2017/04/15060343/charcoalcone.jpg\n",
            "[%] File Downloaded !\n",
            "\n",
            "\n",
            "\n",
            "[!!]Indexing page: 3\n",
            "\n",
            "[%] Indexed 11 Images on Page 3.\n",
            "\n",
            "===============================================\n",
            "\n",
            "[%] Downloading Image #25 from https://c8.alamy.com/comp/EH73TT/a-big-ice-cream-cone-banner-on-display-outside-a-gelateria-rome-italy-EH73TT.jpg\n",
            "[%] File Downloaded !\n",
            "\n",
            "[%] Downloading Image #26 from http://images.hellogiggles.com/uploads/2017/04/15060343/charcoalcone.jpg\n",
            "[%] File Downloaded !\n",
            "\n",
            "[%] Downloading Image #27 from https://www.roadsideamerica.com/attract/images/mo/MOAFFicecream_laura.jpg\n",
            "[%] File Downloaded !\n",
            "\n",
            "[%] Downloading Image #28 from https://geekologie.com/2017/04/26/black-soft-serve-ice-cream-5.jpg\n",
            "[%] File Downloaded !\n",
            "\n",
            "[%] Downloading Image #29 from https://cdn.foodbeast.com/content/uploads/2016/08/fairy-floss-ice-cream.jpg\n",
            "[%] File Downloaded !\n",
            "\n",
            "[%] Downloading Image #30 from https://www.craftymorning.com/wp-content/uploads/2016/05/cotton-candy-cones-party-favor.jpg\n",
            "[%] File Downloaded !\n",
            "\n",
            "\n",
            "\n",
            "[%] Done. Downloaded 30 images.\n",
            "\n",
            "===============================================\n",
            "\n"
          ],
          "name": "stdout"
        }
      ]
    },
    {
      "cell_type": "code",
      "metadata": {
        "colab": {
          "base_uri": "https://localhost:8080/"
        },
        "id": "rbVu7ye-USw_",
        "outputId": "87301508-9b83-4555-a634-6b424523d435"
      },
      "source": [
        "import numpy as np \n",
        "a= np.array([[1,2,3,4,5],\n",
        "            [4,5,6,7,8]])\n",
        "a.ndim"
      ],
      "execution_count": 9,
      "outputs": [
        {
          "output_type": "execute_result",
          "data": {
            "text/plain": [
              "2"
            ]
          },
          "metadata": {
            "tags": []
          },
          "execution_count": 9
        },
        {
          "output_type": "stream",
          "text": [
            "time: 6.82 ms (started: 2021-04-29 15:50:10 +00:00)\n"
          ],
          "name": "stdout"
        }
      ]
    },
    {
      "cell_type": "code",
      "metadata": {
        "colab": {
          "base_uri": "https://localhost:8080/"
        },
        "id": "oL89IaMxUvUA",
        "outputId": "1cb87bed-9434-48af-a8a7-953648e4c5dc"
      },
      "source": [
        "#How do i convert Matrix to Vector? -flatten()   #One of the preprocessing technique\n",
        "a.flatten()"
      ],
      "execution_count": 10,
      "outputs": [
        {
          "output_type": "execute_result",
          "data": {
            "text/plain": [
              "array([1, 2, 3, 4, 5, 4, 5, 6, 7, 8])"
            ]
          },
          "metadata": {
            "tags": []
          },
          "execution_count": 10
        },
        {
          "output_type": "stream",
          "text": [
            "time: 10.2 ms (started: 2021-04-29 15:51:27 +00:00)\n"
          ],
          "name": "stdout"
        }
      ]
    },
    {
      "cell_type": "markdown",
      "metadata": {
        "id": "oJEV9GehRxdy"
      },
      "source": [
        "Step2- Preprocessing: (i) RESIZE\n",
        "                     (ii) FLATTEN"
      ]
    },
    {
      "cell_type": "code",
      "metadata": {
        "colab": {
          "base_uri": "https://localhost:8080/"
        },
        "id": "cYHSj71-RffC",
        "outputId": "5272d2f5-2450-45f3-d49d-bdd58a201225"
      },
      "source": [
        "import os #To play around with the folders. I need this!\n",
        "import matplotlib.pyplot as plt #For displaying the image\n",
        "import numpy as np  #For some numerical computing\n",
        "from skimage.io import imread  #For reading an image \n",
        "from skimage.transform import resize #To resize all images\n",
        "\n",
        "target = []  #output\n",
        "images = []  #data\n",
        "flat_data = [] #helps to create fast ML Model\n",
        "\n",
        "DATADIR = '/content/images'   #My data directory path\n",
        "CATEGORIES = ['pretty sunflower','rugby ball leather','ice cream cone']\n",
        "\n",
        "for category in CATEGORIES:\n",
        "  class_num = CATEGORIES.index(category)  #Label Encoding the values\n",
        "  path = os.path.join(DATADIR,category)   #Create path to use all the images\n",
        "  for img in os.listdir(path):\n",
        "   img_array = imread(os.path.join(path,img))\n",
        "   #print(img_array.shape)    \n",
        "   #plt.imshow(img_array)\n",
        "   #break         #only last image will be displayed then\n",
        "   img_resized = resize(img_array,(150,150,3))   #Normalizes the value from 0 to 1\n",
        "   flat_data.append(img_resized.flatten())\n",
        "   images.append(img_resized)\n",
        "   target.append(class_num)\n",
        "\n",
        "flat_data = np.array(flat_data)\n",
        "target = np.array(target)\n",
        "images = np.array(images)"
      ],
      "execution_count": 19,
      "outputs": [
        {
          "output_type": "stream",
          "text": [
            "time: 11.8 s (started: 2021-04-29 16:26:19 +00:00)\n"
          ],
          "name": "stdout"
        }
      ]
    },
    {
      "cell_type": "code",
      "metadata": {
        "colab": {
          "base_uri": "https://localhost:8080/"
        },
        "id": "mLTprC_ITaci",
        "outputId": "ffca45ba-48bd-49a0-849c-fa6741ebbafb"
      },
      "source": [
        "flat_data[0]"
      ],
      "execution_count": 20,
      "outputs": [
        {
          "output_type": "execute_result",
          "data": {
            "text/plain": [
              "array([0.87843137, 0.85098039, 0.80784314, ..., 0.77777778, 0.53660131,\n",
              "       0.21437908])"
            ]
          },
          "metadata": {
            "tags": []
          },
          "execution_count": 20
        },
        {
          "output_type": "stream",
          "text": [
            "time: 5.88 ms (started: 2021-04-29 16:27:37 +00:00)\n"
          ],
          "name": "stdout"
        }
      ]
    },
    {
      "cell_type": "code",
      "metadata": {
        "colab": {
          "base_uri": "https://localhost:8080/"
        },
        "id": "sP79qjv4dmU4",
        "outputId": "7c665d43-addc-49e9-c787-dde11b9b343c"
      },
      "source": [
        "target"
      ],
      "execution_count": 21,
      "outputs": [
        {
          "output_type": "execute_result",
          "data": {
            "text/plain": [
              "array([0, 0, 0, 0, 0, 0, 0, 0, 0, 0, 0, 0, 0, 0, 0, 0, 0, 0, 0, 0, 0, 0,\n",
              "       0, 0, 0, 0, 0, 0, 0, 0, 1, 1, 1, 1, 1, 1, 1, 1, 1, 1, 1, 1, 1, 1,\n",
              "       1, 1, 1, 1, 1, 1, 1, 1, 1, 1, 1, 1, 1, 1, 1, 1, 2, 2, 2, 2, 2, 2,\n",
              "       2, 2, 2, 2, 2, 2, 2, 2, 2, 2, 2, 2, 2, 2, 2, 2, 2, 2, 2, 2, 2, 2,\n",
              "       2, 2])"
            ]
          },
          "metadata": {
            "tags": []
          },
          "execution_count": 21
        },
        {
          "output_type": "stream",
          "text": [
            "time: 5.73 ms (started: 2021-04-29 16:29:15 +00:00)\n"
          ],
          "name": "stdout"
        }
      ]
    },
    {
      "cell_type": "code",
      "metadata": {
        "colab": {
          "base_uri": "https://localhost:8080/",
          "height": 298
        },
        "id": "Io6FXh9-dqlo",
        "outputId": "e22128bf-eb3d-4eb4-e499-6cbcefd65e42"
      },
      "source": [
        "unique,count = np.unique(target,return_counts=True)\n",
        "plt.bar(CATEGORIES,count)"
      ],
      "execution_count": 24,
      "outputs": [
        {
          "output_type": "execute_result",
          "data": {
            "text/plain": [
              "<BarContainer object of 3 artists>"
            ]
          },
          "metadata": {
            "tags": []
          },
          "execution_count": 24
        },
        {
          "output_type": "display_data",
          "data": {
            "image/png": "[encoded data removed]",
            "text/plain": [
              "<Figure size 432x288 with 1 Axes>"
            ]
          },
          "metadata": {
            "tags": [],
            "needs_background": "light"
          }
        },
        {
          "output_type": "stream",
          "text": [
            "time: 196 ms (started: 2021-04-29 16:31:47 +00:00)\n"
          ],
          "name": "stdout"
        }
      ]
    },
    {
      "cell_type": "code",
      "metadata": {
        "colab": {
          "base_uri": "https://localhost:8080/"
        },
        "id": "cvOZ_4i1eXjU",
        "outputId": "4049ebb5-7ff9-4025-c1cb-d4d2b0d774a0"
      },
      "source": [
        "#Spilt data into TRAINING and TESTING\n",
        "from sklearn.model_selection import train_test_split\n",
        "x_train,x_test,y_train,y_test = train_test_split(flat_data,target,\n",
        "                                                 test_size=0.3,random_state=109)"
      ],
      "execution_count": 25,
      "outputs": [
        {
          "output_type": "stream",
          "text": [
            "time: 27.2 ms (started: 2021-04-29 16:37:15 +00:00)\n"
          ],
          "name": "stdout"
        }
      ]
    },
    {
      "cell_type": "code",
      "metadata": {
        "colab": {
          "base_uri": "https://localhost:8080/"
        },
        "id": "E8rjZ4iogUyt",
        "outputId": "2b503255-1043-468a-82ae-fed179d03a75"
      },
      "source": [
        "#helps in making sure that the parameters which are used in support vectors are proper. \n",
        "from sklearn.model_selection import GridSearchCV\n",
        "from sklearn import svm   #Using SVM Model (Classification Algorithm)\n",
        "param_grid = [ {'C':[1,100,1000],'kernel':['linear']},\n",
        "              {'C':[1,100,1000],'gamma':[0.001,0.0001],'kernel':['rbf']}\n",
        "]\n",
        "\n",
        "svc = svm.SVC(probability=True)\n",
        "clf = GridSearchCV(svc,param_grid)\n",
        "clf.fit(x_train,y_train)"
      ],
      "execution_count": 26,
      "outputs": [
        {
          "output_type": "execute_result",
          "data": {
            "text/plain": [
              "GridSearchCV(cv=None, error_score=nan,\n",
              "             estimator=SVC(C=1.0, break_ties=False, cache_size=200,\n",
              "                           class_weight=None, coef0=0.0,\n",
              "                           decision_function_shape='ovr', degree=3,\n",
              "                           gamma='scale', kernel='rbf', max_iter=-1,\n",
              "                           probability=True, random_state=None, shrinking=True,\n",
              "                           tol=0.001, verbose=False),\n",
              "             iid='deprecated', n_jobs=None,\n",
              "             param_grid=[{'C': [1, 100, 1000], 'kernel': ['linear']},\n",
              "                         {'C': [1, 100, 1000], 'gamma': [0.001, 0.0001],\n",
              "                          'kernel': ['rbf']}],\n",
              "             pre_dispatch='2*n_jobs', refit=True, return_train_score=False,\n",
              "             scoring=None, verbose=0)"
            ]
          },
          "metadata": {
            "tags": []
          },
          "execution_count": 26
        },
        {
          "output_type": "stream",
          "text": [
            "time: 52.5 s (started: 2021-04-29 16:56:13 +00:00)\n"
          ],
          "name": "stdout"
        }
      ]
    },
    {
      "cell_type": "code",
      "metadata": {
        "colab": {
          "base_uri": "https://localhost:8080/"
        },
        "id": "aYBg_lfcffCa",
        "outputId": "febaffa5-1708-4d85-ead4-af23be5c55d7"
      },
      "source": [
        "y_pred = clf.predict(x_test)\n",
        "y_pred\n"
      ],
      "execution_count": 27,
      "outputs": [
        {
          "output_type": "execute_result",
          "data": {
            "text/plain": [
              "array([2, 0, 1, 2, 2, 1, 0, 1, 1, 0, 1, 0, 1, 2, 2, 2, 2, 1, 0, 1, 2, 2,\n",
              "       2, 0, 0, 0, 2])"
            ]
          },
          "metadata": {
            "tags": []
          },
          "execution_count": 27
        },
        {
          "output_type": "stream",
          "text": [
            "time: 92.6 ms (started: 2021-04-29 16:59:07 +00:00)\n"
          ],
          "name": "stdout"
        }
      ]
    },
    {
      "cell_type": "code",
      "metadata": {
        "colab": {
          "base_uri": "https://localhost:8080/"
        },
        "id": "Eez7uM1_kfTb",
        "outputId": "d097ce19-9b97-4320-af88-9a17069ad382"
      },
      "source": [
        "y_test"
      ],
      "execution_count": 28,
      "outputs": [
        {
          "output_type": "execute_result",
          "data": {
            "text/plain": [
              "array([1, 0, 1, 2, 2, 1, 0, 1, 1, 0, 1, 0, 1, 2, 2, 1, 2, 1, 0, 1, 2, 2,\n",
              "       2, 0, 0, 0, 1])"
            ]
          },
          "metadata": {
            "tags": []
          },
          "execution_count": 28
        },
        {
          "output_type": "stream",
          "text": [
            "time: 4.07 ms (started: 2021-04-29 16:59:25 +00:00)\n"
          ],
          "name": "stdout"
        }
      ]
    },
    {
      "cell_type": "code",
      "metadata": {
        "colab": {
          "base_uri": "https://localhost:8080/"
        },
        "id": "-0Ld-FtNkk6-",
        "outputId": "31ea7553-d022-4f9d-9d18-63851e68c677"
      },
      "source": [
        "#Evaluation\n",
        "from sklearn.metrics import accuracy_score,confusion_matrix"
      ],
      "execution_count": 30,
      "outputs": [
        {
          "output_type": "stream",
          "text": [
            "time: 1.34 ms (started: 2021-04-29 17:01:14 +00:00)\n"
          ],
          "name": "stdout"
        }
      ]
    },
    {
      "cell_type": "code",
      "metadata": {
        "colab": {
          "base_uri": "https://localhost:8080/"
        },
        "id": "2aJHMmeuk-0d",
        "outputId": "da97fc1c-dae1-45dc-c8cf-08d91bf210b9"
      },
      "source": [
        "accuracy_score(y_pred,y_test)"
      ],
      "execution_count": 31,
      "outputs": [
        {
          "output_type": "execute_result",
          "data": {
            "text/plain": [
              "0.8888888888888888"
            ]
          },
          "metadata": {
            "tags": []
          },
          "execution_count": 31
        },
        {
          "output_type": "stream",
          "text": [
            "time: 14.8 ms (started: 2021-04-29 17:01:50 +00:00)\n"
          ],
          "name": "stdout"
        }
      ]
    },
    {
      "cell_type": "code",
      "metadata": {
        "colab": {
          "base_uri": "https://localhost:8080/"
        },
        "id": "HtK31RullKfu",
        "outputId": "7adfbab5-a847-45f6-e6f6-7881b5ee1fe2"
      },
      "source": [
        "confusion_matrix(y_pred,y_test)"
      ],
      "execution_count": 32,
      "outputs": [
        {
          "output_type": "execute_result",
          "data": {
            "text/plain": [
              "array([[8, 0, 0],\n",
              "       [0, 8, 0],\n",
              "       [0, 3, 8]])"
            ]
          },
          "metadata": {
            "tags": []
          },
          "execution_count": 32
        },
        {
          "output_type": "stream",
          "text": [
            "time: 6.93 ms (started: 2021-04-29 17:02:42 +00:00)\n"
          ],
          "name": "stdout"
        }
      ]
    },
    {
      "cell_type": "code",
      "metadata": {
        "colab": {
          "base_uri": "https://localhost:8080/"
        },
        "id": "Tn-6V6nalslr",
        "outputId": "403ddd84-ac8d-4b8a-ded6-18bdc2644729"
      },
      "source": [
        "#to check our output \n",
        "#Save the model using Pickle library for deployment\n",
        "import pickle\n",
        "pickle.dump(clf,open('img_model.p','wb'))  #writing the byte"
      ],
      "execution_count": 34,
      "outputs": [
        {
          "output_type": "stream",
          "text": [
            "time: 29.3 ms (started: 2021-04-29 17:07:42 +00:00)\n"
          ],
          "name": "stdout"
        }
      ]
    },
    {
      "cell_type": "code",
      "metadata": {
        "colab": {
          "base_uri": "https://localhost:8080/"
        },
        "id": "jRjQwE_fmhei",
        "outputId": "53ac3e9e-ce11-4f41-b5e8-91c4947689fc"
      },
      "source": [
        "model = pickle.load(open('img_model.p','rb'))  #reading the byte"
      ],
      "execution_count": 36,
      "outputs": [
        {
          "output_type": "stream",
          "text": [
            "time: 26.6 ms (started: 2021-04-29 17:10:22 +00:00)\n"
          ],
          "name": "stdout"
        }
      ]
    },
    {
      "cell_type": "code",
      "metadata": {
        "colab": {
          "base_uri": "https://localhost:8080/",
          "height": 336
        },
        "id": "QFJlhCYfnD49",
        "outputId": "92c3cdc2-0a96-41a9-c1d4-a9d16769358a"
      },
      "source": [
        "#Testing a brand new Image\n",
        "flat_data = []\n",
        "url = input('Enter your URL')\n",
        "img = imread(url)\n",
        "img_resized = resize(img,(150,150,3))\n",
        "flat_data.append(img_resized.flatten())\n",
        "flat_data = np.array(flat_data)\n",
        "print(img.shape)\n",
        "plt.imshow(img_resized)\n",
        "y_out = model.predict(flat_data)\n",
        "y_out = CATEGORIES[y_out[0]]\n",
        "print(f'PREDICTED OUTPUT: {y_out}')"
      ],
      "execution_count": 42,
      "outputs": [
        {
          "output_type": "stream",
          "text": [
            "Enter your URLhttps://5.imimg.com/data5/PO/XI/MY-37095433/rugby-ball-500x500.jpg\n",
            "(500, 500, 3)\n",
            "PREDICTED OUTPUT: rugby ball leather\n"
          ],
          "name": "stdout"
        },
        {
          "output_type": "display_data",
          "data": {
            "image/png": "[encoded data removed]",
            "text/plain": [
              "<Figure size 432x288 with 1 Axes>"
            ]
          },
          "metadata": {
            "tags": [],
            "needs_background": "light"
          }
        },
        {
          "output_type": "stream",
          "text": [
            "time: 14.6 s (started: 2021-04-29 17:24:39 +00:00)\n"
          ],
          "name": "stdout"
        }
      ]
    }
  ]
}